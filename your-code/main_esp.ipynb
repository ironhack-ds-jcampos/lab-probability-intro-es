{
 "cells": [
  {
   "cell_type": "markdown",
   "metadata": {},
   "source": [
    "# Probability"
   ]
  },
  {
   "cell_type": "markdown",
   "metadata": {},
   "source": [
    "## Reto 1\n",
    "Hay una caja con 10 bolas blancas, 12 bolas rojas y 8 bolas negras. Calcula la probabilidad de:\n",
    "* Sacar una bola blanca.\n",
    "* Sacar una bola blanca en la primera extracción y una bola negra en la segunda extracción sin reemplazar la primera.\n",
    "* Sacar una bola blanca en la primera extracción y una bola negra en la segunda extracción reemplazando la primera.\n",
    "* Sacar 3 bolas y que sean todas de diferentes colores."
   ]
  },
  {
   "cell_type": "code",
   "execution_count": 17,
   "metadata": {},
   "outputs": [
    {
     "name": "stdout",
     "output_type": "stream",
     "text": [
      "Probabilidad de sacar una bola blanca: 0.3333\n",
      "Probabilidad de sacar una bola blanca en la primera extracción y una bola negra en la segunda extracción sin reemplazar la primera: 0.0920\n",
      "Probabilidad de sacar una bola blanca en la primera extracción y una bola negra en la segunda extracción reemplazando la primera: 0.0889\n",
      "Probabilidad de sacar 3 bolas y que sean todas de diferentes colores: 0.0394\n"
     ]
    }
   ],
   "source": [
    "# Datos del ejercicio\n",
    "total_balls = 30\n",
    "white_balls = 10\n",
    "red_balls = 12\n",
    "black_balls = 8\n",
    "\n",
    "# 1. Sacar una bola blanca.\n",
    "P_white = white_balls / total_balls\n",
    "\n",
    "# 2. Sacar una bola blanca en la primera extracción y una bola negra en la segunda extracción sin reemplazar la primera.\n",
    "P_white_first = white_balls / total_balls\n",
    "P_black_second_without_replacement = black_balls / (total_balls - 1)\n",
    "P_white_then_black_without_replacement = P_white_first * P_black_second_without_replacement\n",
    "\n",
    "# 3. Sacar una bola blanca en la primera extracción y una bola negra en la segunda extracción reemplazando la primera.\n",
    "P_black_second_with_replacement = black_balls / total_balls\n",
    "P_white_then_black_with_replacement = P_white_first * P_black_second_with_replacement\n",
    "\n",
    "# 4. Sacar 3 bolas y que sean todas de diferentes colores.\n",
    "P_white_first = white_balls / total_balls\n",
    "P_red_second_given_white_first = red_balls / (total_balls - 1)\n",
    "P_black_third_given_white_and_red = black_balls / (total_balls - 2)\n",
    "\n",
    "P_all_different_colors = P_white_first * P_red_second_given_white_first * P_black_third_given_white_and_red\n",
    "\n",
    "# REsultados de los ejercicios\n",
    "print(f\"Probabilidad de sacar una bola blanca: {P_white:.4f}\")\n",
    "print(f\"Probabilidad de sacar una bola blanca en la primera extracción y una bola negra en la segunda extracción sin reemplazar la primera: {P_white_then_black_without_replacement:.4f}\")\n",
    "print(f\"Probabilidad de sacar una bola blanca en la primera extracción y una bola negra en la segunda extracción reemplazando la primera: {P_white_then_black_with_replacement:.4f}\")\n",
    "print(f\"Probabilidad de sacar 3 bolas y que sean todas de diferentes colores: {P_all_different_colors:.4f}\")\n"
   ]
  },
  {
   "cell_type": "markdown",
   "metadata": {},
   "source": [
    "## Reto 2\n",
    "\n",
    "Quieres ir de picnic el sábado. Odias la lluvia y quieres planificar tu fin de semana. Para ayudarte a tomar una decisión, recopilas los siguientes datos sobre los días lluviosos:\n",
    "\n",
    "* El 40% de todos los días están nublados.\n",
    "* Aproximadamente el 50% de los días nublados son lluviosos.\n",
    "* Aproximadamente el 20% de los días no nublados son lluviosos.\n",
    "\n",
    "¿Cuál es la probabilidad de que llueva el próximo sábado?"
   ]
  },
  {
   "cell_type": "code",
   "execution_count": 18,
   "metadata": {},
   "outputs": [
    {
     "name": "stdout",
     "output_type": "stream",
     "text": [
      "La probabilidad de que llueva el próximo sábado es: 0.3200\n"
     ]
    }
   ],
   "source": [
    "# Dstos del ejercicio\n",
    "P_N = 0.40  # P de que el día esté nublado\n",
    "P_L_given_N = 0.50  # P de que llueva dado que el día esté nublado\n",
    "P_L_given_not_N = 0.20  # P de que llueva dado que el día no esté nublado\n",
    "\n",
    "# P de que el día no esté nublado\n",
    "P_not_N = 1 - P_N\n",
    "\n",
    "# P total de que llueva\n",
    "P_L = P_N * P_L_given_N + P_not_N * P_L_given_not_N\n",
    "\n",
    "# Resultados\n",
    "print(f\"La probabilidad de que llueva el próximo sábado es: {P_L:.4f}\")"
   ]
  },
  {
   "cell_type": "markdown",
   "metadata": {},
   "source": [
    "## Reto 3\n",
    "\n",
    "A y B son eventos de una probabilidad tal que \\(P(A) = 0.3\\), \\(P(B) = 0.6\\) y \\(P(A \\cap B) = 0.1\\)\n",
    "\n",
    "¿Cuáles de las siguientes afirmaciones son verdaderas?\n",
    "**SUGERENCIA: dibuja un gran diagrama de Venn a tu lado**\n",
    "* \\(P(\\overline{A}) = 0.7\\)\n",
    "* \\(P(A \\cup B) = 0.6\\)\n",
    "* \\(P(A \\cap \\overline{B}) = 0.2\\)\n",
    "* \\(P(A \\cup \\overline{A}) = 1\\)  \n",
    "* \\(P(A \\cap (B \\cup \\overline{B})) = 0.4\\)\n",
    "* \\(P(\\overline{A} \\cap \\overline{B}) = 0.3\\)\n",
    "* \\(P(\\overline{A \\cap B}) = 0.9\\)"
   ]
  },
  {
   "cell_type": "code",
   "execution_count": 19,
   "metadata": {},
   "outputs": [
    {
     "name": "stdout",
     "output_type": "stream",
     "text": [
      "0.19999999999999998\n",
      "P(¬A) = 0.7\n",
      "P(A ∪ B) = 0.8\n",
      "P(A ∩ ¬B) = 0.2\n",
      "P(A ∪ ¬A) = 1.0\n",
      "P(A ∩ (B ∪ ¬B)) = 0.3\n",
      "P(¬A ∩ ¬B) = 0.2\n",
      "P(¬(A ∩ B)) = 0.9\n"
     ]
    }
   ],
   "source": [
    "# Datos\n",
    "P_A = 0.3\n",
    "P_B = 0.6\n",
    "P_A_and_B = 0.1\n",
    "\n",
    "# PRobabilidades\n",
    "P_not_A = 1 - P_A\n",
    "P_A_union_B = P_A + P_B - P_A_and_B\n",
    "P_A_and_not_B = P_A - P_A_and_B\n",
    "P_A_union_not_A = 1\n",
    "P_B_union_not_B = 1\n",
    "\n",
    "print(P_A_and_not_B)\n",
    "\n",
    "P_A_and_B_union_not_B = P_A\n",
    "P_not_A_and_not_B = 1 - P_A_union_B\n",
    "P_not_A_and_B = 1 - P_A_and_B\n",
    "\n",
    "# Imprimir resultados\n",
    "print(f\"P(¬A) = {P_not_A:.1f}\")\n",
    "print(f\"P(A ∪ B) = {P_A_union_B:.1f}\")\n",
    "print(f\"P(A ∩ ¬B) = {P_A_and_not_B:.1f}\")\n",
    "print(f\"P(A ∪ ¬A) = {P_A_union_not_A:.1f}\")\n",
    "print(f\"P(A ∩ (B ∪ ¬B)) = {P_A_and_B_union_not_B:.1f}\")\n",
    "print(f\"P(¬A ∩ ¬B) = {P_not_A_and_not_B:.1f}\")\n",
    "print(f\"P(¬(A ∩ B)) = {P_not_A_and_B:.1f}\")\n"
   ]
  },
  {
   "cell_type": "markdown",
   "metadata": {},
   "source": [
    "## Reto 4\n",
    "\n",
    "* Si alguien viaja a China, la probabilidad de contraer Covid es del 1%\n",
    "* Si alguien viaja a Italia, la probabilidad de contraer Covid es del 20%\n",
    "\n",
    "Lanzo un dado con números 1, 2, 3, 4, 5, 6:\n",
    "* Si sale 1: Vuelo a Italia\n",
    "* Si no sale 1: Vuelo a China\n",
    "\n",
    "Durante mi viaje, contraje Covid. ¿Cuál es la probabilidad de que haya volado a China?"
   ]
  },
  {
   "cell_type": "code",
   "execution_count": 20,
   "metadata": {},
   "outputs": [
    {
     "name": "stdout",
     "output_type": "stream",
     "text": [
      "La probabilidad de que haya volado a China dado que contraje Covid es: 0.2000\n"
     ]
    }
   ],
   "source": [
    "# Datos\n",
    "P_I = 1 / 6\n",
    "P_C = 5 / 6\n",
    "P_Covid_given_I = 0.20\n",
    "P_Covid_given_C = 0.01\n",
    "\n",
    "# Probablilidad de COVID\n",
    "P_Covid = (P_Covid_given_I * P_I) + (P_Covid_given_C * P_C)\n",
    "\n",
    "# Probabilidad de haber volado a China dado que contraje Covid\n",
    "P_C_given_Covid = (P_Covid_given_C * P_C) / P_Covid\n",
    "\n",
    "# Resultados\n",
    "print(f\"La probabilidad de que haya volado a China dado que contraje Covid es: {P_C_given_Covid:.4f}\")"
   ]
  },
  {
   "cell_type": "markdown",
   "metadata": {},
   "source": [
    "## BONUS\n",
    "\n",
    "Lanzas 2 dados. ¿Cuál es la probabilidad de que la suma de los números sea 7? ¿Y 8? ¿Y 9? Luego simula 10000 veces y dibuja un gráfico de conteo.\n",
    "\n",
    "tu explicación aquí"
   ]
  },
  {
   "cell_type": "code",
   "execution_count": 21,
   "metadata": {},
   "outputs": [
    {
     "data": {
      "image/png": "[encoded data removed]",
      "text/plain": [
       "<Figure size 640x480 with 1 Axes>"
      ]
     },
     "metadata": {},
     "output_type": "display_data"
    },
    {
     "name": "stdout",
     "output_type": "stream",
     "text": [
      "Probabilidad teórica de suma 7: 0.1667\n",
      "Probabilidad teórica de suma 8: 0.1389\n",
      "Probabilidad teórica de suma 9: 0.1111\n"
     ]
    }
   ],
   "source": [
    "import random\n",
    "import matplotlib.pyplot as plt\n",
    "\n",
    "def lanzar_dados():\n",
    "    dado1 = random.randint(1, 6)\n",
    "    dado2 = random.randint(1, 6)\n",
    "    return dado1 + dado2\n",
    "\n",
    "num_lanzamientos = 10000\n",
    "resultados = []\n",
    "for _ in range(num_lanzamientos):\n",
    "    suma_dados = lanzar_dados()\n",
    "    resultados.append(suma_dados)\n",
    "\n",
    "conteo_suma_7 = resultados.count(7)\n",
    "conteo_suma_8 = resultados.count(8)\n",
    "conteo_suma_9 = resultados.count(9)\n",
    "\n",
    "P_suma_7_teoria = 1 / 6\n",
    "P_suma_8_teoria = 5 / 36\n",
    "P_suma_9_teoria = 1 / 9\n",
    "\n",
    "# Pintar gráfico\n",
    "fig, ax = plt.subplots()\n",
    "ax.bar([7, 8, 9], [conteo_suma_7, conteo_suma_8, conteo_suma_9], label='Simulado')\n",
    "ax.axhline(y=num_lanzamientos * P_suma_7_teoria, color='r', linestyle='--', label='Teórico (7)')\n",
    "ax.axhline(y=num_lanzamientos * P_suma_8_teoria, color='g', linestyle='--', label='Teórico (8)')\n",
    "ax.axhline(y=num_lanzamientos * P_suma_9_teoria, color='b', linestyle='--', label='Teórico (9)')\n",
    "ax.set_xlabel('Suma de los dados')\n",
    "ax.set_ylabel('Frecuencia')\n",
    "ax.set_title('Simulación de Suma de Dados')\n",
    "ax.legend()\n",
    "plt.show()\n",
    "\n",
    "# Resultados\n",
    "print(f\"Probabilidad teórica de suma 7: {P_suma_7_teoria:.4f}\")\n",
    "print(f\"Probabilidad teórica de suma 8: {P_suma_8_teoria:.4f}\")\n",
    "print(f\"Probabilidad teórica de suma 9: {P_suma_9_teoria:.4f}\")\n"
   ]
  }
 ],
 "metadata": {
  "kernelspec": {
   "display_name": "Python 3 (ipykernel)",
   "language": "python",
   "name": "python3"
  },
  "language_info": {
   "codemirror_mode": {
    "name": "ipython",
    "version": 3
   },
   "file_extension": ".py",
   "mimetype": "text/x-python",
   "name": "python",
   "nbconvert_exporter": "python",
   "pygments_lexer": "ipython3",
   "version": "3.10.12"
  },
  "toc": {
   "base_numbering": 1,
   "nav_menu": {},
   "number_sections": false,
   "sideBar": true,
   "skip_h1_title": false,
   "title_cell": "Table of Contents",
   "title_sidebar": "Contents",
   "toc_cell": false,
   "toc_position": {
    "height": "calc(100% - 180px)",
    "left": "10px",
    "top": "150px",
    "width": "296.475px"
   },
   "toc_section_display": true,
   "toc_window_display": false
  },
  "varInspector": {
   "cols": {
    "lenName": 16,
    "lenType": 16,
    "lenVar": 40
   },
   "kernels_config": {
    "python": {
     "delete_cmd_postfix": "",
     "delete_cmd_prefix": "del ",
     "library": "var_list.py",
     "varRefreshCmd": "print(var_dic_list())"
    },
    "r": {
     "delete_cmd_postfix": ") ",
     "delete_cmd_prefix": "rm(",
     "library": "var_list.r",
     "varRefreshCmd": "cat(var_dic_list()) "
    }
   },
   "types_to_exclude": [
    "module",
    "function",
    "builtin_function_or_method",
    "instance",
    "_Feature"
   ],
   "window_display": false
  }
 },
 "nbformat": 4,
 "nbformat_minor": 2
}
